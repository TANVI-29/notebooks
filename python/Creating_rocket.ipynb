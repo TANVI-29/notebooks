{
  "nbformat": 4,
  "nbformat_minor": 0,
  "metadata": {
    "colab": {
      "provenance": []
    },
    "kernelspec": {
      "name": "python3",
      "display_name": "Python 3"
    },
    "language_info": {
      "name": "python"
    }
  },
  "cells": [
    {
      "cell_type": "code",
      "execution_count": null,
      "metadata": {
        "id": "v-zTSZd2EkdM"
      },
      "outputs": [],
      "source": []
    },
    {
      "cell_type": "markdown",
      "source": [
        "# OOPS"
      ],
      "metadata": {
        "id": "_xaw7-fhElck"
      }
    },
    {
      "cell_type": "code",
      "source": [
        "class Rocket():\n",
        "  def __init__(self,x,y):\n",
        "    self.x=x\n",
        "    self.y=y\n",
        "\n",
        "x=int(input(\"Enter X cordinates:\"))\n",
        "y=int(input(\"Enter X cordinates:\"))\n",
        "rocket1=Rocket(x,y)\n",
        "print(f\"Coordinates of rocket are {rocket1.x} and {rocket1.y}\")"
      ],
      "metadata": {
        "colab": {
          "base_uri": "https://localhost:8080/"
        },
        "id": "LLycIrhvEoJh",
        "outputId": "2e44863d-a3f8-4ee7-ca5e-27a86716c9e5"
      },
      "execution_count": null,
      "outputs": [
        {
          "output_type": "stream",
          "name": "stdout",
          "text": [
            "Enter X cordinates:4\n",
            "Enter X cordinates:3\n",
            "Coordinates of rocket are 4 and 3\n"
          ]
        }
      ]
    },
    {
      "cell_type": "code",
      "source": [
        "class Rocket():\n",
        "  def __init__(self):\n",
        "    self.x=int(input(\"Enter X cordinates:\"))\n",
        "    self.y=int(input(\"Enter Y cordinates:\"))\n",
        "\n",
        "  def move_up(self):\n",
        "    self.y+=1;\n",
        "\n",
        "#  Make rocket1\n",
        "rocket1=Rocket()\n",
        "print(rocket1)\n",
        "print(f\"Coordinates of rocket are {rocket1.x} and {rocket1.y}\")\n",
        "\n",
        "# move rocket1\n",
        "rocket1.move_up()\n",
        "print(f\"Coordinates of rocket are {rocket1.x} and {rocket1.y}\")\n",
        "\n",
        "print(rocket1)"
      ],
      "metadata": {
        "colab": {
          "base_uri": "https://localhost:8080/"
        },
        "id": "KdpTt0DgHKjd",
        "outputId": "007453ef-fbe9-4174-efb5-3c0128b7d881"
      },
      "execution_count": null,
      "outputs": [
        {
          "output_type": "stream",
          "name": "stdout",
          "text": [
            "Enter X cordinates:3\n",
            "Enter Y cordinates:2\n",
            "<__main__.Rocket object at 0x7edd636111b0>\n",
            "Coordinates of rocket are 3 and 2\n",
            "Coordinates of rocket are 3 and 3\n",
            "<__main__.Rocket object at 0x7edd636111b0>\n"
          ]
        }
      ]
    },
    {
      "cell_type": "code",
      "source": [
        "rocket1=Rocket()\n",
        "rocket2=Rocket()\n",
        "rocket3=Rocket()\n",
        "\n",
        "for object in (rocket1,rocket2,rocket3):\n",
        "  print(object)\n",
        "\n",
        "for object ,name in (zip((rocket1,rocket2,rocket3),(\"Aryabhatta\",\"Sputnik\",\"Aditya\"))):\n",
        "  print(f\"The {name} is at {(object.x,object.y)}\")"
      ],
      "metadata": {
        "colab": {
          "base_uri": "https://localhost:8080/"
        },
        "id": "s_DB5vPkxJoB",
        "outputId": "d61cffe6-0cfe-4fea-e552-329b597ba84d"
      },
      "execution_count": null,
      "outputs": [
        {
          "output_type": "stream",
          "name": "stdout",
          "text": [
            "Enter X cordinates:3\n",
            "Enter Y cordinates:4\n",
            "Enter X cordinates:2\n",
            "Enter Y cordinates:5\n",
            "<__main__.Rocket object at 0x7edd636111b0>\n",
            "<__main__.Rocket object at 0x7edd634287f0>\n",
            "<__main__.Rocket object at 0x7edd63428790>\n",
            "The Aryabhatta is at (3, 3)\n",
            "The Sputnik is at (3, 4)\n",
            "The Aditya is at (2, 5)\n"
          ]
        }
      ]
    },
    {
      "cell_type": "code",
      "source": [
        "## Zip Function\n",
        "stu_name=[]\n",
        "stu_marks=[]\n",
        "for i in range(3):\n",
        "  name=input(\"Enter name:\")\n",
        "  marks=int(input(\"Enter marks:\"))\n",
        "  stu_name.append(name)\n",
        "  stu_marks.append(marks)\n",
        "\n",
        "print(stu_name)\n",
        "print(stu_marks)\n",
        "\n",
        "zipped=zip(stu_name,stu_marks)\n",
        "print(list(zipped))\n",
        "\n",
        "print(list(zip(*zipped)))"
      ],
      "metadata": {
        "colab": {
          "base_uri": "https://localhost:8080/"
        },
        "id": "zVJHtyjA20gr",
        "outputId": "02ae50fd-e3c8-4187-d0f2-be2152a850b6"
      },
      "execution_count": null,
      "outputs": [
        {
          "output_type": "stream",
          "name": "stdout",
          "text": [
            "Enter name:Tanvi\n",
            "Enter marks:95\n",
            "Enter name:Sreya\n",
            "Enter marks:89\n",
            "Enter name:Priti\n",
            "Enter marks:93\n",
            "['Tanvi', 'Sreya', 'Priti']\n",
            "[95, 89, 93]\n",
            "[('Tanvi', 95), ('Sreya', 89), ('Priti', 93)]\n",
            "[]\n"
          ]
        }
      ]
    },
    {
      "cell_type": "code",
      "source": [
        "# Adding more attributes\n",
        "class Rocket():\n",
        "  def __init__(self,x=0,y=0):\n",
        "    self.x=int(input(\"Enter X cordinates:\"))\n",
        "    self.y=int(input(\"Enter Y cordinates:\"))\n",
        "\n",
        "  def move_rocket(self,x_in=0,y_in=1):\n",
        "   self.x+=x_in\n",
        "   self.y+=y_in\n",
        "\n",
        "\n",
        "\n",
        "\n",
        "rocket1=Rocket(x,y)\n",
        "print(f\"Coordinates of rocket are {rocket1.x} and {rocket1.y}\")\n",
        "rocket2=Rocket(x,y)\n",
        "print(f\"Coordinates of rocket are {rocket2.x} and {rocket2.y}\")\n",
        "\n",
        "\n",
        "x_in=int(input(\"Enter X increment:\"))\n",
        "y_in=int(input(\"Enter Y increment:\"))\n",
        "rocket1.move_rocket(x_in,y_in)\n",
        "print(f\"Coordinates of rocket are {rocket1.x} and {rocket1.y}\")"
      ],
      "metadata": {
        "colab": {
          "base_uri": "https://localhost:8080/"
        },
        "id": "c_DXv-LxSSKX",
        "outputId": "66d939b2-cd3b-4603-89d0-895853427d26"
      },
      "execution_count": null,
      "outputs": [
        {
          "output_type": "stream",
          "name": "stdout",
          "text": [
            "Enter X cordinates:2\n",
            "Enter Y cordinates:6\n",
            "Coordinates of rocket are 2 and 6\n",
            "Enter X cordinates:1\n",
            "Enter Y cordinates:7\n",
            "Coordinates of rocket are 1 and 7\n",
            "Enter X increment:0\n",
            "Enter Y increment:3\n",
            "Coordinates of rocket are 2 and 9\n"
          ]
        }
      ]
    },
    {
      "cell_type": "code",
      "source": [
        "# Distance between two rockets\n",
        "class Rocket():\n",
        "  def __init__(self,x=0,y=0):\n",
        "    self.x=int(input(\"Enter X cordinates:\"))\n",
        "    self.y=int(input(\"Enter Y cordinates:\"))\n",
        "\n",
        "def rock_distance(rocket1,rocket2):\n",
        "  x=rocket1.x-rocket2.x\n",
        "  y=rocket1.y-rocket2.y\n",
        "  distance=(x**2+y**2)**0.5\n",
        "  return round(distance,3)\n",
        "\n",
        "rocket1=Rocket(x,y)\n",
        "rocket2=Rocket(x,y)\n",
        "dist=rock_distance(rocket1,rocket2)\n",
        "print(f\"Distance between rockets is {dist}\")"
      ],
      "metadata": {
        "colab": {
          "base_uri": "https://localhost:8080/"
        },
        "id": "foEkjrqXzT4-",
        "outputId": "6c89e9eb-f338-404f-e820-cb656c890b40"
      },
      "execution_count": 4,
      "outputs": [
        {
          "output_type": "stream",
          "name": "stdout",
          "text": [
            "Enter X cordinates:4\n",
            "Enter Y cordinates:2\n",
            "Enter X cordinates:1\n",
            "Enter Y cordinates:8\n",
            "Distance between rockets is 6.708\n"
          ]
        }
      ]
    }
  ]
}